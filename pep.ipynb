{
 "cells": [
  {
   "cell_type": "code",
   "execution_count": 1,
   "id": "6c0bbb42-013f-4444-9785-c48251f6ad30",
   "metadata": {},
   "outputs": [],
   "source": [
    "import numpy as np \n",
    "import pandas\n",
    "import cv2\n",
    "from PIL import Image"
   ]
  },
  {
   "cell_type": "code",
   "execution_count": 9,
   "id": "ed7d9897-7b88-4a65-8641-ffb47856a44e",
   "metadata": {},
   "outputs": [],
   "source": [
    "img = cv2.imread(\"hxh.jpg\")\n",
    "i = cv2.imread(\"mori.jpg\",cv2.COLOR_BGR2RGB)\n",
    "p = cv2.imread(\"b.jpg\",cv2.COLOR_BGR2RGB)\n",
    "cv2.imshow(\"img\",i)\n",
    "cv2.waitKey(0)\n",
    "cv2.destroyAllWindows()"
   ]
  },
  {
   "cell_type": "code",
   "execution_count": 3,
   "id": "ca2c8579-f341-497a-a9a1-3f19a016a452",
   "metadata": {},
   "outputs": [
    {
     "data": {
      "text/plain": [
       "(1080, 1920, 3)"
      ]
     },
     "execution_count": 3,
     "metadata": {},
     "output_type": "execute_result"
    }
   ],
   "source": [
    "img.shape"
   ]
  },
  {
   "cell_type": "code",
   "execution_count": 4,
   "id": "514a8675-0a0b-4b6f-9617-af57d73ff1fc",
   "metadata": {},
   "outputs": [
    {
     "data": {
      "text/plain": [
       "dtype('uint8')"
      ]
     },
     "execution_count": 4,
     "metadata": {},
     "output_type": "execute_result"
    }
   ],
   "source": [
    "img.dtype"
   ]
  },
  {
   "cell_type": "code",
   "execution_count": 5,
   "id": "338ad4e6-75b0-4f38-a534-c1f021c8d8ef",
   "metadata": {},
   "outputs": [
    {
     "data": {
      "text/plain": [
       "6220800"
      ]
     },
     "execution_count": 5,
     "metadata": {},
     "output_type": "execute_result"
    }
   ],
   "source": [
    "img.size"
   ]
  },
  {
   "cell_type": "markdown",
   "id": "8bf87f7b-dd79-48ef-a16f-b126f9ebabfe",
   "metadata": {
    "jp-MarkdownHeadingCollapsed": true
   },
   "source": [
    "roate = np.float32([[0,])"
   ]
  },
  {
   "cell_type": "code",
   "execution_count": 173,
   "id": "fe34f733-8f2c-4ed6-ae39-f2453bd8278a",
   "metadata": {},
   "outputs": [],
   "source": [
    "r,c,_ = p.shape\n",
    "roate = np.float32([[-1,0,c],[0,1,0],[0,0,1]])\n",
    "rota = cv2.warpPerspective(p,roate,(c,r))\n",
    "cv2.imshow(\"g\",rota)\n",
    "cv2.waitKey(0)\n",
    "cv2.destroyAllWindows()"
   ]
  },
  {
   "cell_type": "code",
   "execution_count": 4,
   "id": "1051e5c9-24bd-454f-aaab-a8e7cd45cb3e",
   "metadata": {},
   "outputs": [],
   "source": [
    "zeros= np.zeros(img.shape[:2],np.uint8)\n",
    "b,g,r = cv2.split(img)\n",
    "# Displaying Green channel- image\n",
    "cv2.imshow(\"b\",cv2.merge([b, zeros, zeros]))\n",
    "cv2.imshow(\"r\",cv2.merge([zeros, zeros,r]))\n",
    "cv2.imshow(\"g\",cv2.merge([zeros, g,zeros]))\n",
    "cv2.waitKey(0)\n",
    "cv2.destroyAllWindows()"
   ]
  },
  {
   "cell_type": "code",
   "execution_count": 6,
   "id": "f4bd1077-e3d8-4e26-b8ca-be61ae3c859c",
   "metadata": {},
   "outputs": [],
   "source": [
    "grey = cv2.cvtColor(img,cv2.COLOR_BGR2GRAY)\n",
    "cv2.imshow(\"greyscale\",grey)\n",
    "cv2.waitKey(0)\n",
    "cv2.destroyAllWindows()"
   ]
  },
  {
   "cell_type": "code",
   "execution_count": 7,
   "id": "8078dcb0-b73f-4f7f-b3c8-1ee1a1e95d1f",
   "metadata": {},
   "outputs": [],
   "source": [
    "i = cv2.resize(i,(1920,1080))"
   ]
  },
  {
   "cell_type": "code",
   "execution_count": 8,
   "id": "8bde3fac-c6db-40f9-9c18-879783e59f1a",
   "metadata": {},
   "outputs": [],
   "source": [
    "# add = cv2.add(grey,i)\n",
    "add = cv2.addWeighted(img,0.5,i,0.5,0)\n",
    "cv2.imshow(\"add\",add)\n",
    "cv2.waitKey(0)\n",
    "cv2.destroyAllWindows()"
   ]
  },
  {
   "cell_type": "code",
   "execution_count": 41,
   "id": "d4943476-5cd4-4df9-b204-81e97d6ad54f",
   "metadata": {},
   "outputs": [],
   "source": [
    "f = cv2.subtract(img,i)\n",
    "cv2.imshow(\"f\",f)\n",
    "cv2.waitKey(0)\n",
    "cv2.destroyAllWindows()"
   ]
  },
  {
   "cell_type": "code",
   "execution_count": null,
   "id": "09069006-fabc-46ec-bfd7-2c2f7d2f1a40",
   "metadata": {},
   "outputs": [],
   "source": [
    "#333333333333333"
   ]
  },
  {
   "cell_type": "code",
   "execution_count": 13,
   "id": "4bf438b3-2fa2-4dd8-bc8f-4cd033ed1cef",
   "metadata": {},
   "outputs": [],
   "source": [
    "def gaussian(img,mean = 0,std = 1):\n",
    "    noise = np.random.normal(mean,std,img.shape).astype(np.uint8)\n",
    "    noisy = cv2.add(img,noise)\n",
    "    return noisy"
   ]
  },
  {
   "cell_type": "code",
   "execution_count": 14,
   "id": "ccb00a7b-1c2f-4676-8605-67146d448a4e",
   "metadata": {},
   "outputs": [],
   "source": [
    "noisy_img = gaussian(img,0,1)\n",
    "cv2.imshow(\"Original Image\", img)\n",
    "cv2.imshow(\"Noisy Image\", noisy_img)\n",
    "cv2.waitKey(0)\n",
    "cv2.destroyAllWindows()"
   ]
  },
  {
   "cell_type": "code",
   "execution_count": 15,
   "id": "3e430071-8793-4a68-a3ad-42a8a2b1339e",
   "metadata": {},
   "outputs": [],
   "source": [
    "def sap(img,ratio=0.2):\n",
    "    noisy = img.copy()\n",
    "    a,b,c = img.shape\n",
    "    rate = int(a*b*ratio)\n",
    "\n",
    "    for _ in range(rate):\n",
    "        r,c = np.random.randint(0,a),np.random.randint(0,b)\n",
    "        if np.random.rand() < 0.5:\n",
    "            noisy[r,c] = [0,0,0]\n",
    "        else:\n",
    "            noisy[r,c] = [255,255,255]\n",
    "    return noisy"
   ]
  },
  {
   "cell_type": "code",
   "execution_count": 28,
   "id": "c5e49c81-e776-474b-9c6b-6a279691984f",
   "metadata": {},
   "outputs": [],
   "source": [
    "salt = sap(img,0.2)\n",
    "cv2.imshow(\"Original Image\", img)\n",
    "cv2.imshow(\"Noisy Image\", salt)\n",
    "cv2.waitKey(0)\n",
    "cv2.destroyAllWindows()"
   ]
  },
  {
   "cell_type": "code",
   "execution_count": 30,
   "id": "6fa5e761-8be3-43f1-879a-3f09d7ff412f",
   "metadata": {},
   "outputs": [],
   "source": [
    "mask = np.float32([[1,1,1],[1,1,1],[1,1,1]])\n",
    "mask = mask/np.sum(mask)\n",
    "\n",
    "gaussian = cv2.filter2D(noisy_img,-1,mask)\n",
    "cv2.imshow(\"Noisy Image\", gaussian)\n",
    "cv2.waitKey(0)\n",
    "cv2.destroyAllWindows()"
   ]
  },
  {
   "cell_type": "code",
   "execution_count": 31,
   "id": "7304ddc4-2fb2-4986-855a-7bc624fae205",
   "metadata": {},
   "outputs": [],
   "source": [
    "median =cv2.medianBlur(salt,5)\n",
    "compare = np.concatenate((salt,median),axis = 1)\n",
    "cv2.imshow('After Median filtering', compare)\n",
    "cv2.waitKey(0)\n",
    "cv2.destroyAllWindows()"
   ]
  },
  {
   "cell_type": "code",
   "execution_count": 32,
   "id": "34407601-6c6a-420b-be6d-3fcdd8c91130",
   "metadata": {},
   "outputs": [],
   "source": [
    "m = np.float32([[1,1,1],[0,0,0],[-1,-1,-1]])\n",
    "sobelx = cv2.filter2D(img,-1,m)\n",
    "cv2.imshow('After Median filtering', sobelx)\n",
    "cv2.waitKey(0)\n",
    "cv2.destroyAllWindows()"
   ]
  },
  {
   "cell_type": "code",
   "execution_count": 75,
   "id": "cfd797ae-fca4-4e00-a440-c0831311d881",
   "metadata": {},
   "outputs": [],
   "source": [
    "m = np.float32([[1,0,-1],[1,0,-1],[1,0,-1]])\n",
    "sobely = cv2.filter2D(img,-1,m)\n",
    "s = np.clip(sobelx+sobely,0,255)\n",
    "cv2.imshow('After Median filtering', s)\n",
    "cv2.waitKey(0)\n",
    "cv2.destroyAllWindows()"
   ]
  },
  {
   "cell_type": "code",
   "execution_count": 82,
   "id": "cf79cd70-4e59-4244-bee0-cd6d620db489",
   "metadata": {},
   "outputs": [],
   "source": [
    "def convol(img,m):\n",
    "    r,c,_ = img.shape\n",
    "    a,b = m.shape\n",
    "    output = np.zeros_like(img)\n",
    "    for i in range(r-a+1):\n",
    "        for j in range(c-b+1):\n",
    "            grid = img[i:i+a,j:j+b]\n",
    "            summ = np.sum(grid*m)\n",
    "            output[i,j] = summ\n",
    "    output = np.clip(output,0,255)\n",
    "    cv2.imshow(\"cob\",output)\n",
    "    cv2.waitKey(0)\n",
    "    cv2.destroyAllWindows()"
   ]
  },
  {
   "cell_type": "code",
   "execution_count": 83,
   "id": "cc7485ec-46e2-4ada-b1e0-09426320904e",
   "metadata": {},
   "outputs": [],
   "source": [
    "convol(i,m)"
   ]
  },
  {
   "cell_type": "code",
   "execution_count": 95,
   "id": "69b4a1ce-c8d1-44b1-b926-a8848b9c5497",
   "metadata": {},
   "outputs": [],
   "source": [
    "x = cv2.Sobel(img,-1,1,0,5)\n",
    "y = cv2.Sobel(img,-1,0,1,5)\n",
    "ad = cv2.add(x,y)\n",
    "cv2.imshow(\"cob\",ad)\n",
    "cv2.waitKey(0)\n",
    "cv2.destroyAllWindows()"
   ]
  },
  {
   "cell_type": "code",
   "execution_count": 101,
   "id": "b230038c-9fa5-4a63-b408-591065aaf4ed",
   "metadata": {},
   "outputs": [],
   "source": [
    "lap = cv2.Laplacian(img,-1)\n",
    "cv2.imshow(\"cob\",lap)\n",
    "cv2.waitKey(0)\n",
    "cv2.destroyAllWindows()"
   ]
  },
  {
   "cell_type": "code",
   "execution_count": 102,
   "id": "b1180572-71ac-4e0d-84cd-c957741cd876",
   "metadata": {},
   "outputs": [],
   "source": [
    "gblur = cv2.GaussianBlur(img,(3,3),0)\n",
    "lap = cv2.Laplacian(gblur,-1,3)\n",
    "cv2.imshow(\"cob\",lap)\n",
    "cv2.waitKey(0)\n",
    "cv2.destroyAllWindows()"
   ]
  },
  {
   "cell_type": "code",
   "execution_count": 100,
   "id": "a9f75fe6-47ed-4757-b76f-39487d09fad6",
   "metadata": {},
   "outputs": [],
   "source": [
    "low = cv2.GaussianBlur(img,(3,3),0)\n",
    "high = cv2.GaussianBlur(img,(3,3),100)\n",
    "dog = high - low\n",
    "cv2.imshow(\"cob\",dog)\n",
    "cv2.waitKey(0)\n",
    "cv2.destroyAllWindows()"
   ]
  },
  {
   "cell_type": "code",
   "execution_count": 159,
   "id": "ac2d3190-f543-4c82-810b-cefd051d78fe",
   "metadata": {},
   "outputs": [],
   "source": [
    "gray = cv2.cvtColor(p, cv2.COLOR_BGR2GRAY)\n",
    "    \n",
    "    # Convert to float32 (cornerHarris requires this)\n",
    "gray = np.float32(gray)\n",
    "    \n",
    "    # Apply the Harris corner detection\n",
    "corner = cv2.cornerHarris(gray, 2, 3, 0.05)\n",
    "    \n",
    "    # Dilate the corners to enhance them\n",
    "corner = cv2.dilate(corner, None)\n",
    "\n",
    "    \n",
    "    # Highlight the corners in the copied image\n",
    "p[corner > 0.01 * corner.max()] = [0, 0, 255]  # Mark corners with red color\n",
    "    \n",
    "    # Display the original image with corners highlighted\n",
    "cv2.imshow(\"Corners detected\", p)\n",
    "cv2.waitKey(0)\n",
    "cv2.destroyAllWindows()"
   ]
  },
  {
   "cell_type": "code",
   "execution_count": 130,
   "id": "3cc852dd-ccf2-42c9-8f5a-91b9f00cd08d",
   "metadata": {},
   "outputs": [
    {
     "data": {
      "text/plain": [
       "(1226, 1590)"
      ]
     },
     "execution_count": 130,
     "metadata": {},
     "output_type": "execute_result"
    }
   ],
   "source": [
    "p.shape"
   ]
  },
  {
   "cell_type": "code",
   "execution_count": 175,
   "id": "e2b2dfa4-d314-4d05-9a31-e3b051bf57d7",
   "metadata": {},
   "outputs": [],
   "source": [
    "sift = cv2.SIFT_create()\n",
    "g = np.copy(i)\n",
    "kp = sift.detect(i,None)\n",
    "pe = cv2.drawKeypoints(g,kp,i)\n",
    "cv2.imshow(\"Corners detected\", i)\n",
    "cv2.waitKey(0)\n",
    "cv2.destroyAllWindows()"
   ]
  },
  {
   "cell_type": "code",
   "execution_count": 3,
   "id": "b572b648-4d83-4125-9fe8-f04b42550af0",
   "metadata": {},
   "outputs": [],
   "source": [
    "from skimage.feature import hog\n",
    "from skimage import exposure"
   ]
  },
  {
   "cell_type": "code",
   "execution_count": 4,
   "id": "a0ced648-d6c3-40dd-8a30-9b7e7e64ea5f",
   "metadata": {},
   "outputs": [],
   "source": [
    "fd,hog_im = hog(\n",
    "    p,\n",
    "    orientations=9,\n",
    "    pixels_per_cell=(8, 8),\n",
    "    cells_per_block=(2, 2),\n",
    "    visualize=True,\n",
    "    channel_axis=-1,\n",
    ")\n",
    "new = exposure.rescale_intensity(hog_im,in_range=(0,10))\n",
    "cv2.imshow(\"Corners detected\", new)\n",
    "cv2.waitKey(0)\n",
    "cv2.destroyAllWindows()"
   ]
  },
  {
   "cell_type": "code",
   "execution_count": null,
   "id": "312902ab-bcc4-49db-bb4f-438abf7de8c0",
   "metadata": {},
   "outputs": [],
   "source": [
    "pixel_values = img.reshape((-1,3))\n",
    "pixel_values = np.float32(pixel_values)\n",
    "criteria = (cv2.TERM_CRITERIA_EPS + cv2.TERM_CRITERIA_MAX_ITER,100,0.2)\n",
    "k=50\n",
    "_,labels,(centers) = cv2.kmeans(pixel_values,k,None,criteria,10,cv2.KMEANS_RANDOM_CENTERS)\n",
    "centers = np.uint8(centers)\n",
    "labels = labels.flatten()\n",
    "seg = centers[labels.flatten()]\n",
    "seg = seg.reshape(img.shape)\n",
    "cv2.imshow(\"Corners detected\", seg)\n",
    "cv2.waitKey(0)\n",
    "cv2.destroyAllWindows()"
   ]
  },
  {
   "cell_type": "code",
   "execution_count": null,
   "id": "3f533522-b4a7-4919-9e78-802a7c8c3883",
   "metadata": {},
   "outputs": [],
   "source": []
  }
 ],
 "metadata": {
  "kernelspec": {
   "display_name": "Python 3 (ipykernel)",
   "language": "python",
   "name": "python3"
  },
  "language_info": {
   "codemirror_mode": {
    "name": "ipython",
    "version": 3
   },
   "file_extension": ".py",
   "mimetype": "text/x-python",
   "name": "python",
   "nbconvert_exporter": "python",
   "pygments_lexer": "ipython3",
   "version": "3.12.3"
  }
 },
 "nbformat": 4,
 "nbformat_minor": 5
}
